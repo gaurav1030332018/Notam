{
 "cells": [
  {
   "cell_type": "code",
   "execution_count": 8,
   "id": "85b6f72a",
   "metadata": {},
   "outputs": [
    {
     "name": "stdout",
     "output_type": "stream",
     "text": [
      "ENTER 4 DIGIT ICAO CODEKHSV\n",
      "1:-  08/029 (A0682/21) - RWY 18R/36L CLSD EXC PLA ABV 1200FT. 16 AUG 14:12 2021 UNTIL 29 OCT 21:00 2021.CREATED: 16 AUG 14:12 2021\n",
      "\n",
      "2:-  08/027 (A0681/21) - TWY W, W1, W2, W3, W4, W5, W6, W7, W8, G, H, K, L, TWY J BTN TWY W AND AIR CARRIERAPN CLSD. 16 AUG 14:03 2021 UNTIL 29 OCT 21:00 2021. CREATED: 16 AUG 14:03 2021\n",
      "\n"
     ]
    }
   ],
   "source": [
    "##################PARSER############################################################################################\n",
    "from selenium import webdriver\n",
    "from selenium.webdriver.support.ui import WebDriverWait  # for implicit and explict waits\n",
    "from selenium.webdriver.chrome.options import Options  # for suppressing the browser\n",
    "i=1\n",
    "option = webdriver.ChromeOptions()\n",
    "option.add_argument('headless')\n",
    "\n",
    "chrome_path=r\"C:\\Users\\Admin\\Desktop\\New folder\\chromedriver.exe\"\n",
    "driver=webdriver.Chrome(chrome_path,options=option)\n",
    "driver.get(\"https://www.notams.faa.gov/dinsQueryWeb/\")\n",
    "driver.find_element_by_xpath(\"\"\"/html/body/div[3]/div[3]/button\"\"\").click()\n",
    "search=driver.find_element_by_name(\"retrieveLocId\")\n",
    "#search=driver.find_element_by_xpath(\"\"\"//*[@id=\"searchCriteria\"]/div/input\"\"\")\n",
    "ICAO=input(\"ENTER 4 DIGIT ICAO CODE\")\n",
    "search.send_keys(ICAO)\n",
    "driver.find_element_by_xpath(\"\"\"/html/body/table[3]/tbody/tr/td[1]/table/tbody/tr[1]/td/form/table/tbody/tr/td[2]/table/tbody/tr[5]/td/input[1]\"\"\").click()\n",
    "#driver.find_element_by_xpath(\"/html/body/table[3]/tbody/tr/td[1]/table/tbody/tr[1]/td/form/table/tbody/tr/td[2]/table/tbody/tr[5]/td/input[1]\").click()\n",
    "all_handles = driver.window_handles\n",
    "driver.switch_to.window(all_handles[1])\n",
    "#table = len(driver.find_elements_by_xpath(\"//*[@id='form1']/div/table/tbody/tr[1]/td/table[3]/tbody/tr\"))\n",
    "t=driver.find_elements_by_xpath(\"//*[@id='form1']/div/table/tbody/tr[1]/td/table[3]/tbody/tr\")\n",
    "for r in t:\n",
    "    if \"CLSD\" in r.text:\n",
    "\n",
    "       print(\"{}:-  {}\".format(i,r.text.replace(\"\\n\",\"\")))\n",
    "       i=i+1\n",
    "       print()\n",
    "driver.close()\n",
    "\n",
    "\n",
    "#print(table)"
   ]
  },
  {
   "cell_type": "code",
   "execution_count": null,
   "id": "e08e9d56",
   "metadata": {},
   "outputs": [],
   "source": []
  }
 ],
 "metadata": {
  "kernelspec": {
   "display_name": "Python 3",
   "language": "python",
   "name": "python3"
  },
  "language_info": {
   "codemirror_mode": {
    "name": "ipython",
    "version": 3
   },
   "file_extension": ".py",
   "mimetype": "text/x-python",
   "name": "python",
   "nbconvert_exporter": "python",
   "pygments_lexer": "ipython3",
   "version": "3.7.0"
  }
 },
 "nbformat": 4,
 "nbformat_minor": 5
}
